{
 "cells": [
  {
   "cell_type": "markdown",
   "metadata": {},
   "source": [
    "# Insert Data BigQuery"
   ]
  },
  {
   "cell_type": "markdown",
   "metadata": {},
   "source": [
    "## Libs"
   ]
  },
  {
   "cell_type": "code",
   "execution_count": null,
   "metadata": {},
   "outputs": [],
   "source": [
    "import os\n",
    "import logging\n",
    "from google.cloud import bigquery\n",
    "from google.cloud import storage\n",
    "import pandas as pd\n",
    "from typing import List, Optional\n"
   ]
  },
  {
   "cell_type": "markdown",
   "metadata": {},
   "source": [
    "## Configurar cliente"
   ]
  },
  {
   "cell_type": "code",
   "execution_count": 11,
   "metadata": {},
   "outputs": [],
   "source": [
    "# Configurando o caminho para o arquivo de credenciais\n",
    "os.environ[\"GOOGLE_APPLICATION_CREDENTIALS\"] = \"../../key.json\"\n",
    "\n",
    "# Configurar cliente BigQuery e Storage\n",
    "client = bigquery.Client()\n",
    "gsclient = storage.Client()\n"
   ]
  },
  {
   "cell_type": "code",
   "execution_count": 7,
   "metadata": {},
   "outputs": [],
   "source": [
    "def load_bigquery(\n",
    "    query: str,\n",
    "    project_id: str = \"bankmarketingdatapipeline\",\n",
    "    name_view: Optional[str] = None\n",
    ") -> pd.DataFrame:\n",
    "    \"\"\"\n",
    "    Executa uma consulta no BigQuery e retorna os resultados como um DataFrame.\n",
    "\n",
    "    Args:\n",
    "        query (str): Consulta SQL a ser executada.\n",
    "        project_id (str): ID do projeto do BigQuery.\n",
    "        name_view (Optional[str]): Nome da visualização a ser criada (opcional).\n",
    "    \n",
    "    Returns:\n",
    "        pd.DataFrame: Resultados da consulta como um DataFrame.\n",
    "    \"\"\"\n",
    "    client = bigquery.Client(project=project_id)\n",
    "    \n",
    "    if name_view:\n",
    "        # Cria uma visualização no BigQuery, se necessário\n",
    "        view_query = f\"\"\"\n",
    "        CREATE OR REPLACE VIEW `{project_id}.{name_view}` AS {query}\n",
    "        \"\"\"\n",
    "        client.query(view_query).result()  # Executa a criação da visualização\n",
    "        print(f\"View '{name_view}' criada com sucesso.\")\n",
    "    \n",
    "    # Executa a consulta e retorna um DataFrame\n",
    "    query_job = client.query(query)\n",
    "    df = query_job.to_dataframe()\n",
    "    return df"
   ]
  },
  {
   "cell_type": "markdown",
   "metadata": {},
   "source": [
    "## Criação e Ingestão da tabela trusted_order"
   ]
  },
  {
   "cell_type": "code",
   "execution_count": 82,
   "metadata": {},
   "outputs": [],
   "source": [
    "# Carregar a tabela\n",
    "job_config = bigquery.LoadJobConfig(\n",
    "    schema=[\n",
    "        bigquery.SchemaField(\n",
    "            \"order_id\", \n",
    "            \"INTEGER\", \n",
    "            mode=\"REQUIRED\", \n",
    "            description=\"ID único do pedido\"\n",
    "        ),\n",
    "        bigquery.SchemaField(\n",
    "            \"order_date\", \n",
    "            \"TIMESTAMP\", \n",
    "            mode=\"REQUIRED\", \n",
    "            description=\"Data e hora em que o pedido foi realizado\"\n",
    "        ),\n",
    "        bigquery.SchemaField(\n",
    "            \"order_customer_id\", \n",
    "            \"INTEGER\", \n",
    "            mode=\"REQUIRED\", \n",
    "            description=\"ID do cliente que fez o pedido\"\n",
    "        ),\n",
    "        bigquery.SchemaField(\n",
    "            \"order_status\", \n",
    "            \"STRING\", \n",
    "            mode=\"REQUIRED\", \n",
    "            description=\"Status atual do pedido (ex: 'em processamento', 'enviado')\"\n",
    "        )\n",
    "    ]\n",
    ")\n",
    "\n",
    "uri = \"gs://raw_retail/orders/part-00000\"\n",
    "table_id = f\"{project_id}.db_retail.trusted_order\"\n",
    "\n",
    "# Carregar a tabela\n",
    "load_job = client.load_table_from_uri(\n",
    "    uri, table_id, job_config=job_config\n",
    ")  \n",
    "load_job.result()  # Aguardar a conclusão do job\n",
    "\n",
    "# Obter a tabela\n",
    "table = client.get_table(table_id)\n",
    "\n",
    "# Atualizar descrição da tabela\n",
    "table.description = \"Tabela contendo os pedidos confiáveis do banco de dados de varejo.\"\n",
    "table = client.update_table(table, [\"description\"])"
   ]
  }
 ],
 "metadata": {
  "kernelspec": {
   "display_name": "venv",
   "language": "python",
   "name": "python3"
  },
  "language_info": {
   "codemirror_mode": {
    "name": "ipython",
    "version": 3
   },
   "file_extension": ".py",
   "mimetype": "text/x-python",
   "name": "python",
   "nbconvert_exporter": "python",
   "pygments_lexer": "ipython3",
   "version": "3.12.3"
  }
 },
 "nbformat": 4,
 "nbformat_minor": 2
}
